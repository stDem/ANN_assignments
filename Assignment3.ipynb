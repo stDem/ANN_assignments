{
 "cells": [
  {
   "cell_type": "code",
   "execution_count": 2,
   "metadata": {},
   "outputs": [],
   "source": [
    "import torch\n",
    "from torch.utils.data import Dataset, DataLoader, random_split\n",
    "from torchvision import transforms\n",
    "from PIL import Image\n",
    "import pandas as pd\n",
    "import numpy as np\n",
    "import os\n",
    "import random\n",
    "import matplotlib.pyplot as plt\n",
    "import torch.nn as nn\n",
    "import torch.optim as optim\n",
    "from sklearn.metrics import accuracy_score\n"
   ]
  },
  {
   "cell_type": "markdown",
   "metadata": {},
   "source": [
    "##### Check cuda is available"
   ]
  },
  {
   "cell_type": "code",
   "execution_count": 2,
   "metadata": {},
   "outputs": [
    {
     "name": "stdout",
     "output_type": "stream",
     "text": [
      "0\n",
      "NVIDIA GeForce MX130\n",
      "<torch.cuda.device object at 0x00000274B7D62210>\n",
      "1\n"
     ]
    }
   ],
   "source": [
    "\n",
    "print(torch.cuda.current_device())    # The ID of the current GPU.\n",
    "print(torch.cuda.get_device_name(id))  # The name of the specified GPU, where id is an integer.\n",
    "print(torch.cuda.device(id))           # The memory address of the specified GPU, where id is an integer.\n",
    "print(torch.cuda.device_count())       # The amount of GPUs that are accessible.\n",
    "  "
   ]
  },
  {
   "cell_type": "markdown",
   "metadata": {},
   "source": [
    "##### Parameters:"
   ]
  },
  {
   "cell_type": "code",
   "execution_count": 3,
   "metadata": {},
   "outputs": [],
   "source": [
    "\n",
    "epochs=35\n",
    "batch_size=32\n",
    "\n",
    "input=3\n",
    "layer=[32, 64, 128]\n",
    "classes=4\n",
    "\n",
    "train_images_path = 'SportBalls\\Train\\images'\n",
    "test_images_path = 'SportBalls\\Test\\images'\n",
    "labels_path='SportBalls\\Train\\labels.csv'"
   ]
  },
  {
   "cell_type": "markdown",
   "metadata": {},
   "source": [
    "##### Lables:\n",
    "- 0: baseball;\n",
    "- 1: basketball;\n",
    "- 2: volleyball;\n",
    "- 3: soccerball."
   ]
  },
  {
   "cell_type": "markdown",
   "metadata": {},
   "source": [
    "##### Create training, test and validation datasets (split train dataset in train and val datasets to get an accuracy)"
   ]
  },
  {
   "cell_type": "code",
   "execution_count": 4,
   "metadata": {},
   "outputs": [
    {
     "name": "stdout",
     "output_type": "stream",
     "text": [
      "    img_name  label_ball_1  label_ball_2\n",
      "0  img_00000             2             3\n",
      "1  img_00001             2             2\n",
      "2  img_00002             1             0\n",
      "3  img_00003             0             0\n",
      "4  img_00004             2             2\n",
      "Index(['img_name', 'label_ball_1', 'label_ball_2'], dtype='object')\n"
     ]
    }
   ],
   "source": [
    "\n",
    "# Load labels without column names and specify them\n",
    "column_names = ['img_name', 'label_ball_1', 'label_ball_2']\n",
    "labels_df = pd.read_csv(labels_path, header=None, names=column_names)\n",
    "\n",
    "# Print the first few rows and columns of the DataFrame\n",
    "print(labels_df.head())\n",
    "print(labels_df.columns)\n",
    "\n",
    "# Create binary labels for multi-label classification\n",
    "def create_binary_labels(df):\n",
    "    df['label_baseball'] = df.apply(lambda x: 1 if x['label_ball_1'] == 0 or x['label_ball_2'] == 0 else 0, axis=1)\n",
    "    df['label_basketball'] = df.apply(lambda x: 1 if x['label_ball_1'] == 1 or x['label_ball_2'] == 1 else 0, axis=1)\n",
    "    df['label_volleyball'] = df.apply(lambda x: 1 if x['label_ball_1'] == 2 or x['label_ball_2'] == 2 else 0, axis=1)\n",
    "    df['label_soccerball'] = df.apply(lambda x: 1 if x['label_ball_1'] == 3 or x['label_ball_2'] == 3 else 0, axis=1)\n",
    "    return df\n",
    "\n",
    "labels_df = create_binary_labels(labels_df)\n",
    "\n",
    "class CreateDatasets(Dataset):\n",
    "    def __init__(self, img_dir, labels_df=None, transform=None):\n",
    "        self.img_dir = img_dir\n",
    "        self.labels_df = labels_df\n",
    "        self.transform = transform\n",
    "        self.img_names = sorted(os.listdir(img_dir))\n",
    "        if labels_df is not None:\n",
    "            self.labels = labels_df[['label_baseball', 'label_basketball', 'label_volleyball', 'label_soccerball']].values\n",
    "\n",
    "    def __len__(self):\n",
    "        return len(self.img_names)\n",
    "\n",
    "    def __getitem__(self, idx):\n",
    "        img_name = os.path.join(self.img_dir, self.img_names[idx])\n",
    "        image = Image.open(img_name).convert('RGB')\n",
    "        if self.transform:\n",
    "            image = self.transform(image)\n",
    "        if self.labels_df is not None:\n",
    "            labels = self.labels[idx]\n",
    "            return image, torch.tensor(labels, dtype=torch.float32)\n",
    "        else:\n",
    "            return image, self.img_names[idx]\n",
    "        \n",
    "\n",
    "transform = transforms.Compose([\n",
    "    transforms.Resize((128, 128)),\n",
    "    transforms.ToTensor(),\n",
    "    transforms.Normalize(mean=[0.485, 0.456, 0.406], std=[0.229, 0.224, 0.225])\n",
    "])\n",
    "\n",
    "\n",
    "full_dataset = CreateDatasets(train_images_path, labels_df, transform=transform)\n",
    "train_size = int(0.8 * len(full_dataset))\n",
    "val_size = len(full_dataset) - train_size\n",
    "train_dataset, val_dataset = random_split(full_dataset, [train_size, val_size])\n",
    "\n",
    "train_loader = DataLoader(train_dataset, batch_size=batch_size, shuffle=True)\n",
    "val_loader = DataLoader(val_dataset, batch_size=batch_size, shuffle=False)\n",
    "test_dataset = CreateDatasets(test_images_path, transform=transform)\n",
    "test_loader = DataLoader(test_dataset, batch_size=batch_size, shuffle=False)\n"
   ]
  },
  {
   "cell_type": "markdown",
   "metadata": {},
   "source": [
    "##### Display random image with corresponding lables from train dataset (just to check the dataset)"
   ]
  },
  {
   "cell_type": "code",
   "execution_count": 5,
   "metadata": {},
   "outputs": [
    {
     "name": "stderr",
     "output_type": "stream",
     "text": [
      "Clipping input data to the valid range for imshow with RGB data ([0..1] for floats or [0..255] for integers).\n"
     ]
    },
    {
     "data": {
      "image/png": "[encoded data removed]",
      "text/plain": [
       "<Figure size 640x480 with 1 Axes>"
      ]
     },
     "metadata": {},
     "output_type": "display_data"
    }
   ],
   "source": [
    "\n",
    "def displayImage():\n",
    "    idx = random.randint(0, len(train_dataset) - 1)\n",
    "    image, labels = train_dataset[idx]\n",
    "    image = image.permute(1, 2, 0).numpy()\n",
    "    label_names = ['baseball', 'basketball', 'volleyball', 'soccerball']\n",
    "    label_str = ', '.join([label_names[i] for i, label in enumerate(labels) if label == 1])\n",
    "    \n",
    "    plt.imshow(image)\n",
    "    plt.title(f'Labels: {label_str}')\n",
    "    plt.axis('off')\n",
    "    plt.show()\n",
    "\n",
    "displayImage()\n"
   ]
  },
  {
   "cell_type": "markdown",
   "metadata": {},
   "source": [
    "##### Define the model: conv, relu, linear, pool\n"
   ]
  },
  {
   "cell_type": "code",
   "execution_count": 6,
   "metadata": {},
   "outputs": [],
   "source": [
    "\n",
    "class Model(nn.Module):\n",
    "    def __init__(self, input, layer, classes):\n",
    "        super(Model, self).__init__()\n",
    "        self.conv1 = nn.Conv2d(input, layer[0], kernel_size=3, stride=1, padding=1)\n",
    "        self.conv2 = nn.Conv2d(layer[0], layer[1], kernel_size=3, stride=1, padding=1)\n",
    "        self.pool = nn.MaxPool2d(kernel_size=2, stride=2, padding=0)\n",
    "        self.fc1 = nn.Linear(layer[1] * layer[0] * layer[0], layer[2])\n",
    "        self.fc2 = nn.Linear(layer[2], classes)\n",
    "        self.dropout = nn.Dropout(0.5)\n",
    "        self.relu = nn.ReLU()\n",
    "\n",
    "    def forward(self, x):\n",
    "        x = self.pool(self.relu(self.conv1(x)))\n",
    "        x = self.pool(self.relu(self.conv2(x)))\n",
    "        x = x.view(-1, layer[1] * layer[0] * layer[0])\n",
    "        x = self.dropout(self.relu(self.fc1(x)))\n",
    "        x = torch.sigmoid(self.fc2(x))                          # Using sigmoid since we need binary output for each class\n",
    "        return x\n",
    "\n"
   ]
  },
  {
   "cell_type": "code",
   "execution_count": 7,
   "metadata": {},
   "outputs": [
    {
     "name": "stdout",
     "output_type": "stream",
     "text": [
      "cuda\n"
     ]
    },
    {
     "data": {
      "text/plain": [
       "Model(\n",
       "  (conv1): Conv2d(3, 32, kernel_size=(3, 3), stride=(1, 1), padding=(1, 1))\n",
       "  (conv2): Conv2d(32, 64, kernel_size=(3, 3), stride=(1, 1), padding=(1, 1))\n",
       "  (pool): MaxPool2d(kernel_size=2, stride=2, padding=0, dilation=1, ceil_mode=False)\n",
       "  (fc1): Linear(in_features=65536, out_features=128, bias=True)\n",
       "  (fc2): Linear(in_features=128, out_features=4, bias=True)\n",
       "  (dropout): Dropout(p=0.5, inplace=False)\n",
       "  (relu): ReLU()\n",
       ")"
      ]
     },
     "execution_count": 7,
     "metadata": {},
     "output_type": "execute_result"
    }
   ],
   "source": [
    "device = torch.device(\"cuda\" if torch.cuda.is_available() else \"cpu\")\n",
    "model = Model(input, layer, classes).to(device)\n",
    "\n",
    "print(device)\n",
    "model\n",
    "\n"
   ]
  },
  {
   "cell_type": "markdown",
   "metadata": {},
   "source": [
    "##### Training Loop"
   ]
  },
  {
   "cell_type": "code",
   "execution_count": 8,
   "metadata": {},
   "outputs": [],
   "source": [
    "  \n",
    "def train (model, trainloader, optimizer):\n",
    "    \n",
    "    for e in range(epochs):\n",
    "        tot_train_loss = 0 \n",
    "        for images, labels in trainloader:\n",
    "            images, labels = images.to(device), labels.to(device)\n",
    "            log_ps = model(images)\n",
    "            loss = loss_func(log_ps, labels)\n",
    "            \n",
    "            optimizer.zero_grad()\n",
    "            loss.backward()\n",
    "            optimizer.step()\n",
    "            \n",
    "            tot_train_loss += loss.item()\n",
    "           \n",
    "        # else:\n",
    "        #     # Turn off gradients for validation to save memory and speed up computations\n",
    "        #     with torch.no_grad():\n",
    "        #         model.eval()\n",
    "        #         correct = 0\n",
    "        #         total = 0\n",
    "        #         with torch.no_grad():\n",
    "        #             for i, (images, labels) in enumerate(trainloader):\n",
    "        #                 if i == 10: break\n",
    "        #                 images, labels = images.to('cuda'), labels.to('cuda')\n",
    "        #                 outputs = model(images)\n",
    "        #                 predicted = (outputs > 0.5).float()\n",
    "        #                 total += labels.size(0) * labels.size(1)\n",
    "        #                 correct += (predicted == labels).sum().item()\n",
    "        #     model.train()\n",
    "               \n",
    "        #     train_loss = tot_train_loss / len(trainloader.dataset)\n",
    "        #     accuracy = 100 * correct / total\n",
    "          \n",
    "            \n",
    "            # print(\"Epoch: {}/{}.. \".format(e+1, epochs),\n",
    "            # \"Loss {:.3f}.. \".format(train_loss),\n",
    "            # \"Accuracy {:.3f}\".format(accuracy))\n",
    "        print(f'Epoch [{e+1}/{epochs}], Loss: {loss.item():.4f}')\n",
    "\n",
    "\n",
    "# # Define loss function and optimizers\n",
    "loss_func = nn.CrossEntropyLoss()\n",
    "optimizer = optim.Adam(model.parameters(), lr=0.001)\n"
   ]
  },
  {
   "cell_type": "code",
   "execution_count": 9,
   "metadata": {},
   "outputs": [
    {
     "name": "stdout",
     "output_type": "stream",
     "text": [
      "Epoch [1/35], Loss: 1.9023\n",
      "Epoch [2/35], Loss: 1.6632\n",
      "Epoch [3/35], Loss: 1.6415\n",
      "Epoch [4/35], Loss: 1.6867\n",
      "Epoch [5/35], Loss: 1.5504\n",
      "Epoch [6/35], Loss: 1.6023\n",
      "Epoch [7/35], Loss: 1.7118\n",
      "Epoch [8/35], Loss: 1.7880\n",
      "Epoch [9/35], Loss: 1.7286\n",
      "Epoch [10/35], Loss: 1.7363\n",
      "Epoch [11/35], Loss: 1.7113\n",
      "Epoch [12/35], Loss: 1.7556\n",
      "Epoch [13/35], Loss: 1.7355\n",
      "Epoch [14/35], Loss: 1.7751\n",
      "Epoch [15/35], Loss: 1.7757\n",
      "Epoch [16/35], Loss: 1.6167\n",
      "Epoch [17/35], Loss: 1.6390\n",
      "Epoch [18/35], Loss: 1.8146\n",
      "Epoch [19/35], Loss: 1.8586\n",
      "Epoch [20/35], Loss: 1.7134\n",
      "Epoch [21/35], Loss: 1.8425\n",
      "Epoch [22/35], Loss: 1.5724\n",
      "Epoch [23/35], Loss: 1.7168\n",
      "Epoch [24/35], Loss: 1.7354\n",
      "Epoch [25/35], Loss: 1.7986\n",
      "Epoch [26/35], Loss: 1.6463\n",
      "Epoch [27/35], Loss: 1.9529\n",
      "Epoch [28/35], Loss: 1.7895\n",
      "Epoch [29/35], Loss: 1.7352\n",
      "Epoch [30/35], Loss: 1.6956\n",
      "Epoch [31/35], Loss: 1.7895\n",
      "Epoch [32/35], Loss: 1.8542\n",
      "Epoch [33/35], Loss: 1.7897\n",
      "Epoch [34/35], Loss: 1.8938\n",
      "Epoch [35/35], Loss: 1.6955\n"
     ]
    }
   ],
   "source": [
    "train(model, train_loader, optimizer)"
   ]
  },
  {
   "cell_type": "markdown",
   "metadata": {},
   "source": [
    "##### Evaluation: Estimating the model's accuracy: \n",
    "- Estimating each classes accuracy and overall model's accuracy.\n",
    "- Creating csv file for accuracy"
   ]
  },
  {
   "cell_type": "code",
   "execution_count": 10,
   "metadata": {},
   "outputs": [
    {
     "name": "stdout",
     "output_type": "stream",
     "text": [
      "Validation Loss: 0.0537\n",
      "Accuracy for label 0: 0.9805\n",
      "Accuracy for label 1: 0.9870\n",
      "Accuracy for label 2: 0.9910\n",
      "Accuracy for label 3: 0.9925\n",
      "Overall Accuracy: 0.9878\n"
     ]
    }
   ],
   "source": [
    "def evaluateModel(model, val_loader, criterion):\n",
    "    model.eval()\n",
    "    running_loss = 0.0\n",
    "    all_labels = []\n",
    "    all_preds = []\n",
    "\n",
    "    with torch.no_grad():\n",
    "        for images, labels in val_loader:\n",
    "            images, labels = images.to(device), labels.to(device)\n",
    "\n",
    "            outputs = model(images)\n",
    "            loss = criterion(outputs, labels)\n",
    "            running_loss += loss.item()\n",
    "\n",
    "            preds = torch.sigmoid(outputs) > 0.5        # choose classes only where sigmoid (prediction) > 0.5\n",
    "            all_labels.append(labels.cpu().numpy())\n",
    "            all_preds.append(preds.cpu().numpy())\n",
    "\n",
    "    val_loss = running_loss / len(val_loader.dataset)\n",
    "    all_labels = np.vstack(all_labels)\n",
    "    all_preds = np.vstack(all_preds)\n",
    "    \n",
    "    accuracies = {}\n",
    "    for i in range(4):\n",
    "        accuracies[i] = accuracy_score(all_labels[:, i], all_preds[:, i])\n",
    "\n",
    "    overall_accuracy = np.mean(list(accuracies.values()))\n",
    "    \n",
    "    return val_loss, accuracies, overall_accuracy\n",
    "\n",
    "\n",
    "\n",
    "# Evaluate model on validation set\n",
    "val_loss, accuracies, overall_accuracy = evaluateModel(model, val_loader, loss_func)\n",
    "print(f'Validation Loss: {val_loss:.4f}')\n",
    "with open('accuracy.csv', 'w') as f:\n",
    "    for label, acc in accuracies.items():\n",
    "        print(f'Accuracy for label {label}: {acc:.4f}')\n",
    "        f.write(f'{label},{acc:.4f}\\n')\n",
    "    \n",
    "    print(f'Overall Accuracy: {overall_accuracy:.4f}')\n",
    "    f.write(f'All,{overall_accuracy:.4f}\\n')\n",
    "\n",
    "\n"
   ]
  },
  {
   "cell_type": "markdown",
   "metadata": {},
   "source": [
    "##### Generating predictions for the test data and creating csv file for predictions"
   ]
  },
  {
   "cell_type": "code",
   "execution_count": 11,
   "metadata": {},
   "outputs": [],
   "source": [
    "\n",
    "test_predictions = []\n",
    "test_image_names = []\n",
    "\n",
    "model.eval()\n",
    "with torch.no_grad():\n",
    "    for images, img_names in test_loader:\n",
    "        images = images.to(device)\n",
    "        outputs = model(images)\n",
    "        predicted = (outputs > 0.5).int().cpu().numpy()     \n",
    "        test_predictions.extend(predicted)\n",
    "        test_image_names.extend(img_names)\n",
    "\n",
    "# Save predictions to CSV\n",
    "preds_df = pd.DataFrame(test_predictions, columns=['baseball', 'basketball', 'volleyball', 'soccerball'])\n",
    "preds_df.insert(0, 'img_name', test_image_names)\n",
    "preds_df.to_csv('preds.csv', index=False)"
   ]
  },
  {
   "cell_type": "markdown",
   "metadata": {},
   "source": [
    "# OUTPUTS:\n",
    "Final accuracy for 35 epochs:\n",
    "- Accuracy for label 0: 0.9805\n",
    "- Accuracy for label 1: 0.9870\n",
    "- Accuracy for label 2: 0.9910\n",
    "- Accuracy for label 3: 0.9925\n",
    "- Overall Accuracy: 0.9878\n",
    "\n",
    "I tried different hyperparameters (like parameters for cnn model, batch size and epochs).\n",
    "I compared all parameters with 3 and 10 epochs. \n",
    "\n",
    "For example, using batch size = 64 I got overall accuracy less than 70%. For batch size = 32 and epochs = 10 I got next accuracy:\n",
    "- 0, 0.7660;\n",
    "- 1, 0.9810;\n",
    "- 2, 0.7960;\n",
    "- 3, 0.9755;\n",
    "- All, 0.8796.\n",
    "\n",
    "By increasing numbers of epochs to 35 I got accuracy more than 98%."
   ]
  }
 ],
 "metadata": {
  "kernelspec": {
   "display_name": "base",
   "language": "python",
   "name": "python3"
  },
  "language_info": {
   "codemirror_mode": {
    "name": "ipython",
    "version": 3
   },
   "file_extension": ".py",
   "mimetype": "text/x-python",
   "name": "python",
   "nbconvert_exporter": "python",
   "pygments_lexer": "ipython3",
   "version": "3.11.7"
  }
 },
 "nbformat": 4,
 "nbformat_minor": 2
}
