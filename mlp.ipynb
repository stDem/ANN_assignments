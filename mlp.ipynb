{
 "cells": [
  {
   "cell_type": "markdown",
   "id": "949d06c1",
   "metadata": {},
   "source": [
    "# Assignment 2 - part 1\n",
    "\n",
    "## Feed forward network (multilayer perceptron)\n",
    "\n",
    "In this assignment you shall develop the complete training and evaluation pipeline for a fully connected feed forward network.\n",
    "This shall cover all the stages discussed in the course, starting from data preparation and finishing with model evaluation.\n",
    "You can (you should) use the full functionality of PyTorch and all its packages.\n",
    "\n",
    "You can write most of your code as standard python scripts and packages outside jupyter notebook.\n",
    "The calls to the functionality shall, however, be executed from this notebook (not command-line).\n",
    "All printouts images and comments should be displayed in this notebook.\n",
    "\n",
    "You shall use this framework to train (at least) 3 feed-forward neural networks and compare their performance:\n",
    "- first, use only linear layers and non-linearites of your choice. You shall decide on the depth and width of the layers as well as all other hyperparameters as you see fit.\n",
    "- second, use linear layers, non-linearities and drop-out\n",
    "- third, use linear layers, non-linearities,  drop-out and batch norm\n"
   ]
  },
  {
   "cell_type": "markdown",
   "id": "6cc59e24",
   "metadata": {},
   "source": [
    "### Model training and evaluation\n",
    "\n",
    "Define the function `mlp_train` for training and evaluating an MLP model for classification of **FashionMNIST** data.\n",
    "The function shall be flexible so that it can take in all necessary hyper-parameters for the training. You shall not fix the hyper-parameters in the code of the function itself as fixed values.\n",
    "\n",
    "The `mlp_train` function shall return \n",
    "* the trained model `mlp_model`\n",
    "* anything else you deem important or useful for monitoring purposes etc. "
   ]
  },
  {
   "cell_type": "code",
   "execution_count": 3,
   "id": "a51fe2dc",
   "metadata": {},
   "outputs": [],
   "source": [
    "import torch\n",
    "from torch import nn\n",
    "import torch.nn.functional as F\n",
    "import torchvision\n",
    "from torchvision import datasets, transforms\n",
    "import torch.optim as optim\n",
    "import matplotlib.pyplot as plt\n",
    "import numpy as np\n",
    "\n",
    "# Define a transformation to normalize the dataset\n",
    "transform = transforms.Compose([transforms.ToTensor(),\n",
    "                                transforms.Normalize((0.5), (0.5))])\n",
    "\n",
    "# Download and load the training data\n",
    "trainset = datasets.FashionMNIST(\"~/.pytorch/F_MNIST_data/\", download=True, train=True, transform = transform)\n",
    "trainloader = torch.utils.data.DataLoader(trainset, batch_size=64, shuffle=True)\n",
    "\n",
    "# Download and load the test data\n",
    "testset = datasets.FashionMNIST(\"~/.pytorch/F_MNIST_data/\", download=True, train=False, transform = transform)\n",
    "testloader = torch.utils.data.DataLoader(testset, batch_size=64, shuffle=True)"
   ]
  },
  {
   "cell_type": "markdown",
   "id": "ffe33cfb",
   "metadata": {},
   "source": [
    "### Create 3 models.\n",
    "use input_size, hidden_sizes and output_size as parameters. create 3 layers (input, hidden, output):\n",
    "- 1 Model: linear, relu;\n",
    "- 2 Model: linear, relu, dropout;\n",
    "- 3 Model: linear, relu, dropout, BatchNorm1d."
   ]
  },
  {
   "cell_type": "code",
   "execution_count": 4,
   "id": "b4377613",
   "metadata": {},
   "outputs": [],
   "source": [
    "input_size = 784                # each image is 28x28 which is a total of 784 pixels\n",
    "hidden_sizes = [256, 64]        # I tried some other combinations like [256, 128], [128, 64], [512,128], [512,64], but the best accuracy I get only with [256,64]\n",
    "output_size = 10                # there are 10 classes\n",
    "epochs = 35                   # 35 - optimal to get maximum accuracy. after 15 epochs accuracy doesn`t chanche much, so to decrease run time I choose 17 epochs"
   ]
  },
  {
   "cell_type": "code",
   "execution_count": 5,
   "id": "e1843fa7",
   "metadata": {},
   "outputs": [],
   "source": [
    "# Model 1:\n",
    "\n",
    "class Model1(nn.Module):\n",
    "    def __init__(self, input_size, hidden_sizes, output_size):\n",
    "        super().__init__()\n",
    "        self.fc1 = nn.Linear(input_size, hidden_sizes[0])\n",
    "        self.fc2 = nn.Linear(hidden_sizes[0], hidden_sizes[1])\n",
    "        self.fc3 = nn.Linear(hidden_sizes[1], output_size)\n",
    "        \n",
    "        self.relu=nn.ReLU()\n",
    "        \n",
    "    def forward(self, x):\n",
    "        # Flatten the input tensor\n",
    "        x = x.view(x.shape[0], -1)    \n",
    "     \n",
    "        x = F.relu(self.fc1(x))\n",
    "        x = F.relu(self.fc2(x))\n",
    "        x = F.log_softmax(self.fc3(x), dim=1)           # use log_softmax directly (not log(softmax))\n",
    "\n",
    "        return x\n",
    "    \n",
    "model1 = Model1(input_size, hidden_sizes, output_size)\n",
    "loss_func = nn.CrossEntropyLoss()                       # use nn.CrossEntropyLoss (not nn.NLLLoss)\n",
    "optimizer1 = optim.Adam(model1.parameters(), lr=0.003)  # use Adam (not SGD)"
   ]
  },
  {
   "cell_type": "code",
   "execution_count": 6,
   "id": "68aa7427",
   "metadata": {},
   "outputs": [
    {
     "name": "stdout",
     "output_type": "stream",
     "text": [
      "Model1(\n",
      "  (fc1): Linear(in_features=784, out_features=256, bias=True)\n",
      "  (fc2): Linear(in_features=256, out_features=64, bias=True)\n",
      "  (fc3): Linear(in_features=64, out_features=10, bias=True)\n",
      "  (relu): ReLU()\n",
      ")\n"
     ]
    }
   ],
   "source": [
    "print(model1)"
   ]
  },
  {
   "cell_type": "code",
   "execution_count": 7,
   "id": "6f031e54",
   "metadata": {},
   "outputs": [],
   "source": [
    "# Model 2:\n",
    "\n",
    "class Model2(nn.Module):\n",
    "    def __init__(self, input_size, hidden_sizes, output_size):\n",
    "        super().__init__()\n",
    "        self.fc1 = nn.Linear(input_size, hidden_sizes[0])\n",
    "        self.fc2 = nn.Linear(hidden_sizes[0], hidden_sizes[1])\n",
    "        self.fc3 = nn.Linear(hidden_sizes[1], output_size)\n",
    "        \n",
    "        # Dropout module with a 0.2 drop probability \n",
    "        self.drop = nn.Dropout(p=0.2)\n",
    "        self.relu=nn.ReLU()\n",
    "        \n",
    "    def forward(self, x):\n",
    "        x = x.view(x.shape[0], -1)    \n",
    "        # Set the activation functions\n",
    "        x = self.drop(F.relu(self.fc1(x)))\n",
    "        x = self.drop(F.relu(self.fc2(x)))\n",
    "        x = F.log_softmax(self.fc3(x), dim=1)\n",
    "    \n",
    "    \n",
    "        return x\n",
    "    \n",
    "model2 = Model2(input_size, hidden_sizes, output_size)\n",
    "\n",
    "optimizer2 = optim.Adam(model2.parameters(), lr=0.003)"
   ]
  },
  {
   "cell_type": "code",
   "execution_count": 8,
   "id": "ceca11e0",
   "metadata": {},
   "outputs": [
    {
     "name": "stdout",
     "output_type": "stream",
     "text": [
      "Model2(\n",
      "  (fc1): Linear(in_features=784, out_features=256, bias=True)\n",
      "  (fc2): Linear(in_features=256, out_features=64, bias=True)\n",
      "  (fc3): Linear(in_features=64, out_features=10, bias=True)\n",
      "  (drop): Dropout(p=0.2, inplace=False)\n",
      "  (relu): ReLU()\n",
      ")\n"
     ]
    }
   ],
   "source": [
    "print(model2)"
   ]
  },
  {
   "cell_type": "code",
   "execution_count": 9,
   "id": "f42d709f",
   "metadata": {},
   "outputs": [],
   "source": [
    "# Model 3:\n",
    "\n",
    "class Model3(nn.Module):\n",
    "    def __init__(self, input_size, hidden_sizes, output_size):\n",
    "        super().__init__()\n",
    "        inter_features=2*input_size\n",
    "        self.fc1 = nn.Linear(input_size, inter_features)\n",
    "        self.fc2 = nn.Linear(inter_features, inter_features)\n",
    "        self.fc3 = nn.Linear(inter_features, output_size)\n",
    "        \n",
    "        # Dropout module with a 0.2 drop probability \n",
    "        self.drop = nn.Dropout(p=0.2)\n",
    "        self.relu=nn.ReLU()\n",
    "        self.batchnorm1=nn.BatchNorm1d(inter_features)\n",
    "        self.batchnorm2=nn.BatchNorm1d(inter_features)\n",
    "        \n",
    "    def forward(self, x):\n",
    "        # Flatten the input tensor\n",
    "        x = x.view(x.shape[0], -1)    \n",
    "     \n",
    "        x = self.drop(F.relu(self.fc1(x)))\n",
    "        x=self.batchnorm1(x)\n",
    "        x = self.drop(F.relu(self.fc2(x)))\n",
    "        x=self.batchnorm2(x)\n",
    "        x = F.log_softmax(self.fc3(x), dim=1)\n",
    "\n",
    "        return x\n",
    "    \n",
    "model3 = Model3(input_size, hidden_sizes, output_size)\n",
    "optimizer3 = optim.Adam(model3.parameters(), lr=0.003)"
   ]
  },
  {
   "cell_type": "code",
   "execution_count": 10,
   "id": "1267e60e",
   "metadata": {},
   "outputs": [
    {
     "name": "stdout",
     "output_type": "stream",
     "text": [
      "Model3(\n",
      "  (fc1): Linear(in_features=784, out_features=1568, bias=True)\n",
      "  (fc2): Linear(in_features=1568, out_features=1568, bias=True)\n",
      "  (fc3): Linear(in_features=1568, out_features=10, bias=True)\n",
      "  (drop): Dropout(p=0.2, inplace=False)\n",
      "  (relu): ReLU()\n",
      "  (batchnorm1): BatchNorm1d(1568, eps=1e-05, momentum=0.1, affine=True, track_running_stats=True)\n",
      "  (batchnorm2): BatchNorm1d(1568, eps=1e-05, momentum=0.1, affine=True, track_running_stats=True)\n",
      ")\n"
     ]
    }
   ],
   "source": [
    "print(model3)"
   ]
  },
  {
   "cell_type": "markdown",
   "id": "388b64cd",
   "metadata": {},
   "source": [
    "### Model application\n",
    "\n",
    "Define a simple utility function `mlp_apply` that uses the train model to classify 10 examples of the test set and displays the 10 images in a grid together with their true and predicted labels."
   ]
  },
  {
   "cell_type": "code",
   "execution_count": 11,
   "id": "decd3420",
   "metadata": {},
   "outputs": [
    {
     "name": "stdout",
     "output_type": "stream",
     "text": [
      "Model 1:\n"
     ]
    },
    {
     "data": {
      "image/png": "[encoded data removed]",
      "text/plain": [
       "<Figure size 1200x800 with 10 Axes>"
      ]
     },
     "metadata": {},
     "output_type": "display_data"
    }
   ],
   "source": [
    "def mlp_apply(model, test_loader):\n",
    "    output =[]\n",
    "    pred=[]\n",
    "    examples = enumerate(test_loader)\n",
    "    batch_idx, (example_data, example_targets) = next(examples)\n",
    "    \n",
    "    with torch.no_grad():\n",
    "        output = model(example_data)\n",
    "    \n",
    "    pred = output.argmax(dim=1, keepdim=True)\n",
    "    \n",
    "    # Plotting the results\n",
    "    plt.figure(figsize=(12, 8))\n",
    "    for i in range(10):\n",
    "        plt.subplot(2, 5, i+1)\n",
    "        plt.imshow(example_data[i][0], cmap='gray', interpolation='none')\n",
    "        plt.title(f\"True: {example_targets[i].item()}\\nPred: {pred[i].item()}\")\n",
    "        plt.xticks([])\n",
    "        plt.yticks([])\n",
    "    plt.tight_layout()\n",
    "    plt.show()\n",
    "    \n",
    "    \n",
    "\n",
    "print(\"Model 1:\")\n",
    "mlp_apply(model1, testloader)\n",
    "print(\"Model 2:\")\n",
    "mlp_apply(model2, testloader)\n",
    "print(\"Model 3:\")\n",
    "mlp_apply(model3, testloader)\n"
   ]
  },
  {
   "cell_type": "markdown",
   "id": "fe947cec",
   "metadata": {},
   "source": [
    "### Train and apply model\n",
    "\n",
    "Use your functions defined above to train the three models. Try different values of the hyper-paramter settings. You shall achieve at least 80% test accuracy with all your models and at least 90% test accuracy with the best one.\n",
    "\n",
    "Describe briefly your three models and your hyper-parameter setups and comment your results.\n",
    "\n",
    "**Compare the performance of the three models using suitable supportive tables and graphs, and complemented by relevant comments.**"
   ]
  },
  {
   "cell_type": "code",
   "execution_count": 12,
   "id": "92c684e4",
   "metadata": {},
   "outputs": [],
   "source": [
    "  \n",
    "def train (model, trainloader, optimizer):\n",
    "\n",
    "    # ep_losses = []\n",
    "    # ep_accuracy = []\n",
    "\n",
    "    # for epoch  in range(epochs):\n",
    "    #     batch_losses = []\n",
    "    #     batch_accuracy = []\n",
    "    #     for x_batch, y_batch in trainloader:\n",
    "    #         model.train()\n",
    "    #         logits = model(x_batch) # forward\n",
    "    #         loss = loss_func(logits, y_batch)            # loss calculation\n",
    "    #         _,preds=torch.max(logits,1)\n",
    "    #         accuracy=torch.sum(preds==y_batch) / len(preds) # monitoring\n",
    "    #         batch_losses.append(loss.item())\n",
    "    #         batch_accuracy.append(accuracy.item())\n",
    "    #         loss.backward()   # backward - get gradients\n",
    "    #         optimizer.step()\n",
    "    #         optimizer.zero_grad()             \n",
    "    #     avg_loss = sum(batch_losses)/len(batch_losses)\n",
    "    #     avg_acc = sum(batch_accuracy)/ len(batch_accuracy)\n",
    "    #     print(f'Epoch {epoch}: loss is {avg_loss} acc is {avg_acc}')\n",
    "    #     ep_losses.append(avg_acc)\n",
    "    #     ep_accuracy.append(avg_acc)\n",
    "    \n",
    "    train_losses, test_losses = [], []\n",
    "\n",
    "    for e in range(epochs):\n",
    "        tot_train_loss = 0 \n",
    "        for images, labels in trainloader:\n",
    "            log_ps = model(images)\n",
    "            loss = loss_func(log_ps, labels)\n",
    "            \n",
    "            optimizer.zero_grad()                   # zero out gradients\n",
    "            loss.backward()\n",
    "            optimizer.step()\n",
    "            \n",
    "            tot_train_loss += loss.item()\n",
    "        else:\n",
    "            tot_test_loss = 0\n",
    "            test_correct = 0\n",
    "            # Turn off gradients for validation to save memory and speed up computations\n",
    "            with torch.no_grad():\n",
    "                model.eval()\n",
    "                for images, labels in testloader:\n",
    "                    log_ps = model(images)\n",
    "                    loss = loss_func(log_ps, labels)\n",
    "                    tot_test_loss += loss.item()\n",
    "                    \n",
    "                    ps = torch.exp(log_ps)\n",
    "                    top_p, top_class = ps.topk(1, dim=1)\n",
    "                    equals = top_class == labels.view(*top_class.shape)\n",
    "                    test_correct += equals.sum().item()\n",
    "                    \n",
    "            model.train()\n",
    "            \n",
    "            # Get mean loss to enable comparison between train and test sets\n",
    "            train_loss = tot_train_loss / len(trainloader.dataset)\n",
    "            test_loss = tot_test_loss / len(testloader.dataset)\n",
    "            \n",
    "            # At completion of epoch\n",
    "            train_losses.append(train_loss)\n",
    "            test_losses.append(test_loss)\n",
    "            \n",
    "            # if e % 2==0:                                   \n",
    "            print(\"Epoch: {}/{}.. \".format(e+1, epochs),\n",
    "            \"Training Loss {:.3f}.. \".format(train_loss),\n",
    "            \"Test Loss {:.3f}.. \".format(test_loss),\n",
    "            \"Test Accuracy {:.3f}\".format(test_correct / len(testloader.dataset)))\n",
    "\n",
    "\n"
   ]
  },
  {
   "cell_type": "code",
   "execution_count": 13,
   "id": "bd8a7626",
   "metadata": {},
   "outputs": [
    {
     "name": "stdout",
     "output_type": "stream",
     "text": [
      "Model 1:\n"
     ]
    },
    {
     "ename": "KeyboardInterrupt",
     "evalue": "",
     "output_type": "error",
     "traceback": [
      "\u001b[1;31m---------------------------------------------------------------------------\u001b[0m",
      "\u001b[1;31mKeyboardInterrupt\u001b[0m                         Traceback (most recent call last)",
      "Cell \u001b[1;32mIn[13], line 2\u001b[0m\n\u001b[0;32m      1\u001b[0m \u001b[38;5;28mprint\u001b[39m(\u001b[38;5;124m\"\u001b[39m\u001b[38;5;124mModel 1:\u001b[39m\u001b[38;5;124m\"\u001b[39m)   \n\u001b[1;32m----> 2\u001b[0m train(model1, trainloader, optimizer1)\n",
      "Cell \u001b[1;32mIn[12], line 30\u001b[0m, in \u001b[0;36mtrain\u001b[1;34m(model, trainloader, optimizer)\u001b[0m\n\u001b[0;32m     28\u001b[0m \u001b[38;5;28;01mfor\u001b[39;00m e \u001b[38;5;129;01min\u001b[39;00m \u001b[38;5;28mrange\u001b[39m(epochs):\n\u001b[0;32m     29\u001b[0m     tot_train_loss \u001b[38;5;241m=\u001b[39m \u001b[38;5;241m0\u001b[39m \n\u001b[1;32m---> 30\u001b[0m     \u001b[38;5;28;01mfor\u001b[39;00m images, labels \u001b[38;5;129;01min\u001b[39;00m trainloader:\n\u001b[0;32m     31\u001b[0m         log_ps \u001b[38;5;241m=\u001b[39m model(images)\n\u001b[0;32m     32\u001b[0m         loss \u001b[38;5;241m=\u001b[39m loss_func(log_ps, labels)\n",
      "File \u001b[1;32me:\\anaconda3\\Lib\\site-packages\\torch\\utils\\data\\dataloader.py:631\u001b[0m, in \u001b[0;36m_BaseDataLoaderIter.__next__\u001b[1;34m(self)\u001b[0m\n\u001b[0;32m    628\u001b[0m \u001b[38;5;28;01mif\u001b[39;00m \u001b[38;5;28mself\u001b[39m\u001b[38;5;241m.\u001b[39m_sampler_iter \u001b[38;5;129;01mis\u001b[39;00m \u001b[38;5;28;01mNone\u001b[39;00m:\n\u001b[0;32m    629\u001b[0m     \u001b[38;5;66;03m# TODO(https://github.com/pytorch/pytorch/issues/76750)\u001b[39;00m\n\u001b[0;32m    630\u001b[0m     \u001b[38;5;28mself\u001b[39m\u001b[38;5;241m.\u001b[39m_reset()  \u001b[38;5;66;03m# type: ignore[call-arg]\u001b[39;00m\n\u001b[1;32m--> 631\u001b[0m data \u001b[38;5;241m=\u001b[39m \u001b[38;5;28mself\u001b[39m\u001b[38;5;241m.\u001b[39m_next_data()\n\u001b[0;32m    632\u001b[0m \u001b[38;5;28mself\u001b[39m\u001b[38;5;241m.\u001b[39m_num_yielded \u001b[38;5;241m+\u001b[39m\u001b[38;5;241m=\u001b[39m \u001b[38;5;241m1\u001b[39m\n\u001b[0;32m    633\u001b[0m \u001b[38;5;28;01mif\u001b[39;00m \u001b[38;5;28mself\u001b[39m\u001b[38;5;241m.\u001b[39m_dataset_kind \u001b[38;5;241m==\u001b[39m _DatasetKind\u001b[38;5;241m.\u001b[39mIterable \u001b[38;5;129;01mand\u001b[39;00m \\\n\u001b[0;32m    634\u001b[0m         \u001b[38;5;28mself\u001b[39m\u001b[38;5;241m.\u001b[39m_IterableDataset_len_called \u001b[38;5;129;01mis\u001b[39;00m \u001b[38;5;129;01mnot\u001b[39;00m \u001b[38;5;28;01mNone\u001b[39;00m \u001b[38;5;129;01mand\u001b[39;00m \\\n\u001b[0;32m    635\u001b[0m         \u001b[38;5;28mself\u001b[39m\u001b[38;5;241m.\u001b[39m_num_yielded \u001b[38;5;241m>\u001b[39m \u001b[38;5;28mself\u001b[39m\u001b[38;5;241m.\u001b[39m_IterableDataset_len_called:\n",
      "File \u001b[1;32me:\\anaconda3\\Lib\\site-packages\\torch\\utils\\data\\dataloader.py:675\u001b[0m, in \u001b[0;36m_SingleProcessDataLoaderIter._next_data\u001b[1;34m(self)\u001b[0m\n\u001b[0;32m    673\u001b[0m \u001b[38;5;28;01mdef\u001b[39;00m \u001b[38;5;21m_next_data\u001b[39m(\u001b[38;5;28mself\u001b[39m):\n\u001b[0;32m    674\u001b[0m     index \u001b[38;5;241m=\u001b[39m \u001b[38;5;28mself\u001b[39m\u001b[38;5;241m.\u001b[39m_next_index()  \u001b[38;5;66;03m# may raise StopIteration\u001b[39;00m\n\u001b[1;32m--> 675\u001b[0m     data \u001b[38;5;241m=\u001b[39m \u001b[38;5;28mself\u001b[39m\u001b[38;5;241m.\u001b[39m_dataset_fetcher\u001b[38;5;241m.\u001b[39mfetch(index)  \u001b[38;5;66;03m# may raise StopIteration\u001b[39;00m\n\u001b[0;32m    676\u001b[0m     \u001b[38;5;28;01mif\u001b[39;00m \u001b[38;5;28mself\u001b[39m\u001b[38;5;241m.\u001b[39m_pin_memory:\n\u001b[0;32m    677\u001b[0m         data \u001b[38;5;241m=\u001b[39m _utils\u001b[38;5;241m.\u001b[39mpin_memory\u001b[38;5;241m.\u001b[39mpin_memory(data, \u001b[38;5;28mself\u001b[39m\u001b[38;5;241m.\u001b[39m_pin_memory_device)\n",
      "File \u001b[1;32me:\\anaconda3\\Lib\\site-packages\\torch\\utils\\data\\_utils\\fetch.py:51\u001b[0m, in \u001b[0;36m_MapDatasetFetcher.fetch\u001b[1;34m(self, possibly_batched_index)\u001b[0m\n\u001b[0;32m     49\u001b[0m         data \u001b[38;5;241m=\u001b[39m \u001b[38;5;28mself\u001b[39m\u001b[38;5;241m.\u001b[39mdataset\u001b[38;5;241m.\u001b[39m__getitems__(possibly_batched_index)\n\u001b[0;32m     50\u001b[0m     \u001b[38;5;28;01melse\u001b[39;00m:\n\u001b[1;32m---> 51\u001b[0m         data \u001b[38;5;241m=\u001b[39m [\u001b[38;5;28mself\u001b[39m\u001b[38;5;241m.\u001b[39mdataset[idx] \u001b[38;5;28;01mfor\u001b[39;00m idx \u001b[38;5;129;01min\u001b[39;00m possibly_batched_index]\n\u001b[0;32m     52\u001b[0m \u001b[38;5;28;01melse\u001b[39;00m:\n\u001b[0;32m     53\u001b[0m     data \u001b[38;5;241m=\u001b[39m \u001b[38;5;28mself\u001b[39m\u001b[38;5;241m.\u001b[39mdataset[possibly_batched_index]\n",
      "File \u001b[1;32me:\\anaconda3\\Lib\\site-packages\\torch\\utils\\data\\_utils\\fetch.py:51\u001b[0m, in \u001b[0;36m<listcomp>\u001b[1;34m(.0)\u001b[0m\n\u001b[0;32m     49\u001b[0m         data \u001b[38;5;241m=\u001b[39m \u001b[38;5;28mself\u001b[39m\u001b[38;5;241m.\u001b[39mdataset\u001b[38;5;241m.\u001b[39m__getitems__(possibly_batched_index)\n\u001b[0;32m     50\u001b[0m     \u001b[38;5;28;01melse\u001b[39;00m:\n\u001b[1;32m---> 51\u001b[0m         data \u001b[38;5;241m=\u001b[39m [\u001b[38;5;28mself\u001b[39m\u001b[38;5;241m.\u001b[39mdataset[idx] \u001b[38;5;28;01mfor\u001b[39;00m idx \u001b[38;5;129;01min\u001b[39;00m possibly_batched_index]\n\u001b[0;32m     52\u001b[0m \u001b[38;5;28;01melse\u001b[39;00m:\n\u001b[0;32m     53\u001b[0m     data \u001b[38;5;241m=\u001b[39m \u001b[38;5;28mself\u001b[39m\u001b[38;5;241m.\u001b[39mdataset[possibly_batched_index]\n",
      "File \u001b[1;32me:\\anaconda3\\Lib\\site-packages\\torchvision\\datasets\\mnist.py:145\u001b[0m, in \u001b[0;36mMNIST.__getitem__\u001b[1;34m(self, index)\u001b[0m\n\u001b[0;32m    142\u001b[0m img \u001b[38;5;241m=\u001b[39m Image\u001b[38;5;241m.\u001b[39mfromarray(img\u001b[38;5;241m.\u001b[39mnumpy(), mode\u001b[38;5;241m=\u001b[39m\u001b[38;5;124m\"\u001b[39m\u001b[38;5;124mL\u001b[39m\u001b[38;5;124m\"\u001b[39m)\n\u001b[0;32m    144\u001b[0m \u001b[38;5;28;01mif\u001b[39;00m \u001b[38;5;28mself\u001b[39m\u001b[38;5;241m.\u001b[39mtransform \u001b[38;5;129;01mis\u001b[39;00m \u001b[38;5;129;01mnot\u001b[39;00m \u001b[38;5;28;01mNone\u001b[39;00m:\n\u001b[1;32m--> 145\u001b[0m     img \u001b[38;5;241m=\u001b[39m \u001b[38;5;28mself\u001b[39m\u001b[38;5;241m.\u001b[39mtransform(img)\n\u001b[0;32m    147\u001b[0m \u001b[38;5;28;01mif\u001b[39;00m \u001b[38;5;28mself\u001b[39m\u001b[38;5;241m.\u001b[39mtarget_transform \u001b[38;5;129;01mis\u001b[39;00m \u001b[38;5;129;01mnot\u001b[39;00m \u001b[38;5;28;01mNone\u001b[39;00m:\n\u001b[0;32m    148\u001b[0m     target \u001b[38;5;241m=\u001b[39m \u001b[38;5;28mself\u001b[39m\u001b[38;5;241m.\u001b[39mtarget_transform(target)\n",
      "File \u001b[1;32me:\\anaconda3\\Lib\\site-packages\\torchvision\\transforms\\transforms.py:95\u001b[0m, in \u001b[0;36mCompose.__call__\u001b[1;34m(self, img)\u001b[0m\n\u001b[0;32m     93\u001b[0m \u001b[38;5;28;01mdef\u001b[39;00m \u001b[38;5;21m__call__\u001b[39m(\u001b[38;5;28mself\u001b[39m, img):\n\u001b[0;32m     94\u001b[0m     \u001b[38;5;28;01mfor\u001b[39;00m t \u001b[38;5;129;01min\u001b[39;00m \u001b[38;5;28mself\u001b[39m\u001b[38;5;241m.\u001b[39mtransforms:\n\u001b[1;32m---> 95\u001b[0m         img \u001b[38;5;241m=\u001b[39m t(img)\n\u001b[0;32m     96\u001b[0m     \u001b[38;5;28;01mreturn\u001b[39;00m img\n",
      "File \u001b[1;32me:\\anaconda3\\Lib\\site-packages\\torchvision\\transforms\\transforms.py:137\u001b[0m, in \u001b[0;36mToTensor.__call__\u001b[1;34m(self, pic)\u001b[0m\n\u001b[0;32m    129\u001b[0m \u001b[38;5;28;01mdef\u001b[39;00m \u001b[38;5;21m__call__\u001b[39m(\u001b[38;5;28mself\u001b[39m, pic):\n\u001b[0;32m    130\u001b[0m \u001b[38;5;250m    \u001b[39m\u001b[38;5;124;03m\"\"\"\u001b[39;00m\n\u001b[0;32m    131\u001b[0m \u001b[38;5;124;03m    Args:\u001b[39;00m\n\u001b[0;32m    132\u001b[0m \u001b[38;5;124;03m        pic (PIL Image or numpy.ndarray): Image to be converted to tensor.\u001b[39;00m\n\u001b[1;32m   (...)\u001b[0m\n\u001b[0;32m    135\u001b[0m \u001b[38;5;124;03m        Tensor: Converted image.\u001b[39;00m\n\u001b[0;32m    136\u001b[0m \u001b[38;5;124;03m    \"\"\"\u001b[39;00m\n\u001b[1;32m--> 137\u001b[0m     \u001b[38;5;28;01mreturn\u001b[39;00m F\u001b[38;5;241m.\u001b[39mto_tensor(pic)\n",
      "File \u001b[1;32me:\\anaconda3\\Lib\\site-packages\\torchvision\\transforms\\functional.py:174\u001b[0m, in \u001b[0;36mto_tensor\u001b[1;34m(pic)\u001b[0m\n\u001b[0;32m    172\u001b[0m img \u001b[38;5;241m=\u001b[39m img\u001b[38;5;241m.\u001b[39mpermute((\u001b[38;5;241m2\u001b[39m, \u001b[38;5;241m0\u001b[39m, \u001b[38;5;241m1\u001b[39m))\u001b[38;5;241m.\u001b[39mcontiguous()\n\u001b[0;32m    173\u001b[0m \u001b[38;5;28;01mif\u001b[39;00m \u001b[38;5;28misinstance\u001b[39m(img, torch\u001b[38;5;241m.\u001b[39mByteTensor):\n\u001b[1;32m--> 174\u001b[0m     \u001b[38;5;28;01mreturn\u001b[39;00m img\u001b[38;5;241m.\u001b[39mto(dtype\u001b[38;5;241m=\u001b[39mdefault_float_dtype)\u001b[38;5;241m.\u001b[39mdiv(\u001b[38;5;241m255\u001b[39m)\n\u001b[0;32m    175\u001b[0m \u001b[38;5;28;01melse\u001b[39;00m:\n\u001b[0;32m    176\u001b[0m     \u001b[38;5;28;01mreturn\u001b[39;00m img\n",
      "\u001b[1;31mKeyboardInterrupt\u001b[0m: "
     ]
    }
   ],
   "source": [
    "print(\"Model 1:\")   \n",
    "train(model1, trainloader, optimizer1)"
   ]
  },
  {
   "cell_type": "code",
   "execution_count": null,
   "id": "b13eddee",
   "metadata": {},
   "outputs": [],
   "source": [
    "print(\"Model 2:\")   \n",
    "train(model2, trainloader, optimizer2)\n"
   ]
  },
  {
   "cell_type": "code",
   "execution_count": 14,
   "id": "c299651d",
   "metadata": {},
   "outputs": [
    {
     "name": "stdout",
     "output_type": "stream",
     "text": [
      "Model 3:\n",
      "Epoch: 1/35..  Training Loss 0.010..  Test Loss 0.015..  Test Accuracy 0.810\n",
      "Epoch: 2/35..  Training Loss 0.008..  Test Loss 0.176..  Test Accuracy 0.831\n",
      "Epoch: 3/35..  Training Loss 0.007..  Test Loss 0.440..  Test Accuracy 0.832\n",
      "Epoch: 4/35..  Training Loss 0.006..  Test Loss 1.464..  Test Accuracy 0.834\n",
      "Epoch: 5/35..  Training Loss 0.006..  Test Loss 0.600..  Test Accuracy 0.853\n",
      "Epoch: 6/35..  Training Loss 0.006..  Test Loss 0.885..  Test Accuracy 0.863\n",
      "Epoch: 7/35..  Training Loss 0.006..  Test Loss 1.554..  Test Accuracy 0.848\n",
      "Epoch: 8/35..  Training Loss 0.006..  Test Loss 0.841..  Test Accuracy 0.860\n",
      "Epoch: 9/35..  Training Loss 0.005..  Test Loss 0.145..  Test Accuracy 0.859\n",
      "Epoch: 10/35..  Training Loss 0.005..  Test Loss 0.231..  Test Accuracy 0.863\n",
      "Epoch: 11/35..  Training Loss 0.005..  Test Loss 0.195..  Test Accuracy 0.873\n",
      "Epoch: 12/35..  Training Loss 0.005..  Test Loss 0.227..  Test Accuracy 0.872\n",
      "Epoch: 13/35..  Training Loss 0.005..  Test Loss 0.396..  Test Accuracy 0.876\n",
      "Epoch: 14/35..  Training Loss 0.005..  Test Loss 0.742..  Test Accuracy 0.867\n",
      "Epoch: 15/35..  Training Loss 0.005..  Test Loss 2.371..  Test Accuracy 0.812\n",
      "Epoch: 16/35..  Training Loss 0.005..  Test Loss 0.715..  Test Accuracy 0.871\n",
      "Epoch: 17/35..  Training Loss 0.005..  Test Loss 5.421..  Test Accuracy 0.856\n",
      "Epoch: 18/35..  Training Loss 0.005..  Test Loss 0.706..  Test Accuracy 0.871\n",
      "Epoch: 19/35..  Training Loss 0.005..  Test Loss 0.343..  Test Accuracy 0.864\n",
      "Epoch: 20/35..  Training Loss 0.005..  Test Loss 0.375..  Test Accuracy 0.880\n",
      "Epoch: 21/35..  Training Loss 0.005..  Test Loss 0.141..  Test Accuracy 0.884\n",
      "Epoch: 22/35..  Training Loss 0.005..  Test Loss 0.754..  Test Accuracy 0.878\n",
      "Epoch: 23/35..  Training Loss 0.004..  Test Loss 0.241..  Test Accuracy 0.879\n",
      "Epoch: 24/35..  Training Loss 0.004..  Test Loss 0.044..  Test Accuracy 0.880\n",
      "Epoch: 25/35..  Training Loss 0.004..  Test Loss 0.439..  Test Accuracy 0.880\n",
      "Epoch: 26/35..  Training Loss 0.004..  Test Loss 0.151..  Test Accuracy 0.879\n",
      "Epoch: 27/35..  Training Loss 0.004..  Test Loss 0.057..  Test Accuracy 0.884\n",
      "Epoch: 28/35..  Training Loss 0.004..  Test Loss 0.149..  Test Accuracy 0.880\n",
      "Epoch: 29/35..  Training Loss 0.004..  Test Loss 0.177..  Test Accuracy 0.881\n",
      "Epoch: 30/35..  Training Loss 0.004..  Test Loss 0.286..  Test Accuracy 0.884\n",
      "Epoch: 31/35..  Training Loss 0.004..  Test Loss 2.864..  Test Accuracy 0.883\n",
      "Epoch: 32/35..  Training Loss 0.004..  Test Loss 0.041..  Test Accuracy 0.884\n",
      "Epoch: 33/35..  Training Loss 0.004..  Test Loss 0.045..  Test Accuracy 0.886\n",
      "Epoch: 34/35..  Training Loss 0.004..  Test Loss 0.067..  Test Accuracy 0.885\n",
      "Epoch: 35/35..  Training Loss 0.004..  Test Loss 0.038..  Test Accuracy 0.883\n"
     ]
    }
   ],
   "source": [
    "print(\"Model 3:\")   \n",
    "train(model3, trainloader, optimizer3)"
   ]
  },
  {
   "cell_type": "markdown",
   "id": "997c666e",
   "metadata": {},
   "source": [
    "Best accuracy using 35 epochs:\n",
    "- Model 1: 88.5% - the fastest - reach 88.5% by about 15 epoch;\n",
    "- Model 2: 88.3% - slower - reach 88.3 % by about 27 epoch;\n",
    "- Model 3: 88.6% - reach 88.6% by about 33 epoch.\n",
    "\n",
    "I tried different hyperparameters, but these work better. I didn`t try more than 35 epochs, becouse it takes too much time (for example, running the 3d model took more than one hour)."
   ]
  },
  {
   "cell_type": "markdown",
   "id": "ec4b2dd8",
   "metadata": {},
   "source": [
    "# OUTPUTS (with 35 epochs):\n",
    "1. Model 1:\n",
    "\n",
    "\n",
    "\n",
    "\n",
    "\n",
    "2. Model 2:\n",
    "\n",
    "\n",
    "\n",
    "\n",
    "\n",
    "3. Model 3:\n",
    "- Epoch: 1/35..  Training Loss 0.010..  Test Loss 0.015..  Test Accuracy 0.810\n",
    "- Epoch: 2/35..  Training Loss 0.008..  Test Loss 0.176..  Test Accuracy 0.831\n",
    "- Epoch: 3/35..  Training Loss 0.007..  Test Loss 0.440..  Test Accuracy 0.832\n",
    "- Epoch: 4/35..  Training Loss 0.006..  Test Loss 1.464..  Test Accuracy 0.834\n",
    "- Epoch: 5/35..  Training Loss 0.006..  Test Loss 0.600..  Test Accuracy 0.853\n",
    "- Epoch: 6/35..  Training Loss 0.006..  Test Loss 0.885..  Test Accuracy 0.863\n",
    "- Epoch: 7/35..  Training Loss 0.006..  Test Loss 1.554..  Test Accuracy 0.848\n",
    "- Epoch: 8/35..  Training Loss 0.006..  Test Loss 0.841..  Test Accuracy 0.860\n",
    "- Epoch: 9/35..  Training Loss 0.005..  Test Loss 0.145..  Test Accuracy 0.859\n",
    "- Epoch: 10/35..  Training Loss 0.005..  Test Loss 0.231..  Test Accuracy 0.863\n",
    "- Epoch: 11/35..  Training Loss 0.005..  Test Loss 0.195..  Test Accuracy 0.873\n",
    "- Epoch: 12/35..  Training Loss 0.005..  Test Loss 0.227..  Test Accuracy 0.872\n",
    "- Epoch: 13/35..  Training Loss 0.005..  Test Loss 0.396..  Test Accuracy 0.876\n",
    "- Epoch: 14/35..  Training Loss 0.005..  Test Loss 0.742..  Test Accuracy 0.867\n",
    "- Epoch: 15/35..  Training Loss 0.005..  Test Loss 2.371..  Test Accuracy 0.812\n",
    "- Epoch: 16/35..  Training Loss 0.005..  Test Loss 0.715..  Test Accuracy 0.871\n",
    "- Epoch: 17/35..  Training Loss 0.005..  Test Loss 5.421..  Test Accuracy 0.856\n",
    "- Epoch: 18/35..  Training Loss 0.005..  Test Loss 0.706..  Test Accuracy 0.871\n",
    "- Epoch: 19/35..  Training Loss 0.005..  Test Loss 0.343..  Test Accuracy 0.864\n",
    "- Epoch: 20/35..  Training Loss 0.005..  Test Loss 0.375..  Test Accuracy 0.880\n",
    "- Epoch: 21/35..  Training Loss 0.005..  Test Loss 0.141..  Test Accuracy 0.884\n",
    "- Epoch: 22/35..  Training Loss 0.005..  Test Loss 0.754..  Test Accuracy 0.878\n",
    "- Epoch: 23/35..  Training Loss 0.004..  Test Loss 0.241..  Test Accuracy 0.879\n",
    "- Epoch: 24/35..  Training Loss 0.004..  Test Loss 0.044..  Test Accuracy 0.880\n",
    "- Epoch: 25/35..  Training Loss 0.004..  Test Loss 0.439..  Test Accuracy 0.880\n",
    "- Epoch: 26/35..  Training Loss 0.004..  Test Loss 0.151..  Test Accuracy 0.879\n",
    "- Epoch: 27/35..  Training Loss 0.004..  Test Loss 0.057..  Test Accuracy 0.884\n",
    "- Epoch: 28/35..  Training Loss 0.004..  Test Loss 0.149..  Test Accuracy 0.880\n",
    "- Epoch: 29/35..  Training Loss 0.004..  Test Loss 0.177..  Test Accuracy 0.881\n",
    "- Epoch: 30/35..  Training Loss 0.004..  Test Loss 0.286..  Test Accuracy 0.884\n",
    "- Epoch: 31/35..  Training Loss 0.004..  Test Loss 2.864..  Test Accuracy 0.883\n",
    "- Epoch: 32/35..  Training Loss 0.004..  Test Loss 0.041..  Test Accuracy 0.884\n",
    "- Epoch: 33/35..  Training Loss 0.004..  Test Loss 0.045..  Test Accuracy 0.886\n",
    "- Epoch: 34/35..  Training Loss 0.004..  Test Loss 0.067..  Test Accuracy 0.885\n",
    "- Epoch: 35/35..  Training Loss 0.004..  Test Loss 0.038..  Test Accuracy 0.883"
   ]
  }
 ],
 "metadata": {
  "kernelspec": {
   "display_name": "Python 3",
   "language": "python",
   "name": "python3"
  },
  "language_info": {
   "codemirror_mode": {
    "name": "ipython",
    "version": 3
   },
   "file_extension": ".py",
   "mimetype": "text/x-python",
   "name": "python",
   "nbconvert_exporter": "python",
   "pygments_lexer": "ipython3",
   "version": "3.11.7"
  }
 },
 "nbformat": 4,
 "nbformat_minor": 5
}
