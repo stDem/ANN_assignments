{
 "cells": [
  {
   "cell_type": "code",
   "execution_count": 1,
   "metadata": {},
   "outputs": [
    {
     "name": "stderr",
     "output_type": "stream",
     "text": [
      "e:\\anaconda3\\Lib\\site-packages\\torchvision\\io\\image.py:13: UserWarning: Failed to load image Python extension: '[WinError 127] Не найдена указанная процедура'If you don't plan on using image functionality from `torchvision.io`, you can ignore this warning. Otherwise, there might be something wrong with your environment. Did you have `libjpeg` or `libpng` installed before building `torchvision` from source?\n",
      "  warn(\n"
     ]
    }
   ],
   "source": [
    "import torch\n",
    "from torch.utils.data import Dataset, DataLoader\n",
    "from torchvision import transforms\n",
    "from PIL import Image\n",
    "import pandas as pd\n",
    "import numpy as np\n",
    "import os\n",
    "import random\n",
    "import matplotlib.pyplot as plt\n",
    "import torch.nn as nn\n",
    "import torch.optim as optim\n"
   ]
  },
  {
   "cell_type": "code",
   "execution_count": 2,
   "metadata": {},
   "outputs": [
    {
     "data": {
      "text/plain": [
       "False"
      ]
     },
     "execution_count": 2,
     "metadata": {},
     "output_type": "execute_result"
    }
   ],
   "source": [
    "torch.cuda.is_available()"
   ]
  },
  {
   "cell_type": "code",
   "execution_count": 2,
   "metadata": {},
   "outputs": [],
   "source": [
    "#parameters:\n",
    "\n",
    "epochs=10\n",
    "batch_size=64\n",
    "\n",
    "input=3\n",
    "layer=32\n",
    "classes=4\n",
    "\n",
    "train_images_path = 'SportBalls\\Train'\n",
    "test_images_path = 'SportBalls\\Test'\n",
    "labels_path='SportBalls\\Train\\labels.csv'"
   ]
  },
  {
   "cell_type": "code",
   "execution_count": 3,
   "metadata": {},
   "outputs": [
    {
     "name": "stdout",
     "output_type": "stream",
     "text": [
      "    img_name  label_ball_1  label_ball_2\n",
      "0  img_00000             2             3\n",
      "1  img_00001             2             2\n",
      "2  img_00002             1             0\n",
      "3  img_00003             0             0\n",
      "4  img_00004             2             2\n",
      "Index(['img_name', 'label_ball_1', 'label_ball_2'], dtype='object')\n"
     ]
    }
   ],
   "source": [
    "\n",
    "# Load labels without column names and specify them\n",
    "column_names = ['img_name', 'label_ball_1', 'label_ball_2']\n",
    "labels_df = pd.read_csv(labels_path, header=None, names=column_names)\n",
    "\n",
    "# Debug: print the first few rows and columns of the DataFrame\n",
    "print(labels_df.head())\n",
    "print(labels_df.columns)\n",
    "\n",
    "# Create binary labels for multi-label classification\n",
    "def create_binary_labels(df):\n",
    "    df['label_baseball'] = df.apply(lambda x: 1 if x['label_ball_1'] == 0 or x['label_ball_2'] == 0 else 0, axis=1)\n",
    "    df['label_basketball'] = df.apply(lambda x: 1 if x['label_ball_1'] == 1 or x['label_ball_2'] == 1 else 0, axis=1)\n",
    "    df['label_volleyball'] = df.apply(lambda x: 1 if x['label_ball_1'] == 2 or x['label_ball_2'] == 2 else 0, axis=1)\n",
    "    df['label_soccerball'] = df.apply(lambda x: 1 if x['label_ball_1'] == 3 or x['label_ball_2'] == 3 else 0, axis=1)\n",
    "    return df\n",
    "\n",
    "labels_df = create_binary_labels(labels_df)\n",
    "\n",
    "# Custom Dataset class\n",
    "class SportsBallsDataset(Dataset):\n",
    "    def __init__(self, img_dir, labels_df=None, transform=None):\n",
    "        self.img_dir = img_dir\n",
    "        self.labels_df = labels_df\n",
    "        self.transform = transform\n",
    "        self.img_names = sorted(os.listdir(img_dir))\n",
    "        if labels_df is not None:\n",
    "            self.labels = labels_df[['label_baseball', 'label_basketball', 'label_volleyball', 'label_soccerball']].values\n",
    "\n",
    "    def __len__(self):\n",
    "        return len(self.img_names)\n",
    "\n",
    "    def __getitem__(self, idx):\n",
    "        img_name = os.path.join(self.img_dir, self.img_names[idx])\n",
    "        image = Image.open(img_name).convert('RGB')\n",
    "        if self.transform:\n",
    "            image = self.transform(image)\n",
    "        if self.labels_df is not None:\n",
    "            labels = self.labels[idx]\n",
    "            return image, torch.tensor(labels, dtype=torch.float32)\n",
    "        else:\n",
    "            return image, self.img_names[idx]\n",
    "\n",
    "# Define transformations\n",
    "transform = transforms.Compose([\n",
    "    transforms.Resize((128, 128)),\n",
    "    transforms.ToTensor(),\n",
    "    transforms.Normalize(mean=[0.485, 0.456, 0.406], std=[0.229, 0.224, 0.225])\n",
    "])\n",
    "\n",
    "# Create Datasets\n",
    "train_dataset = SportsBallsDataset(img_dir=train_images_path, labels_df=labels_df, transform=transform)\n",
    "test_dataset = SportsBallsDataset(img_dir=test_images_path, transform=transform)\n",
    "\n",
    "# Create DataLoaders\n",
    "train_loader = DataLoader(train_dataset, batch_size=32, shuffle=True, num_workers=4)\n",
    "test_loader = DataLoader(test_dataset, batch_size=32, shuffle=False, num_workers=4)\n"
   ]
  },
  {
   "cell_type": "code",
   "execution_count": 4,
   "metadata": {},
   "outputs": [
    {
     "name": "stderr",
     "output_type": "stream",
     "text": [
      "Clipping input data to the valid range for imshow with RGB data ([0..1] for floats or [0..255] for integers).\n"
     ]
    },
    {
     "data": {
      "image/png": "[encoded data removed]",
      "text/plain": [
       "<Figure size 640x480 with 1 Axes>"
      ]
     },
     "metadata": {},
     "output_type": "display_data"
    }
   ],
   "source": [
    "\n",
    "def display_random_image_with_label():\n",
    "    idx = random.randint(0, len(train_dataset) - 1)\n",
    "    image, labels = train_dataset[idx]\n",
    "    image = image.permute(1, 2, 0).numpy()\n",
    "    label_names = ['baseball', 'basketball', 'volleyball', 'soccerball']\n",
    "    label_str = ', '.join([label_names[i] for i, label in enumerate(labels) if label == 1])\n",
    "    \n",
    "    plt.imshow(image)\n",
    "    plt.title(f'Label: {label_str}')\n",
    "    plt.axis('off')\n",
    "    plt.show()\n",
    "\n",
    "display_random_image_with_label()\n"
   ]
  },
  {
   "cell_type": "code",
   "execution_count": 5,
   "metadata": {},
   "outputs": [],
   "source": [
    "\n",
    "\n",
    "# Define the model\n",
    "class CNNModel(nn.Module):\n",
    "    def __init__(self):\n",
    "        super(CNNModel, self).__init__()\n",
    "        self.conv1 = nn.Conv2d(3, 32, kernel_size=3, stride=1, padding=1)\n",
    "        self.conv2 = nn.Conv2d(32, 64, kernel_size=3, stride=1, padding=1)\n",
    "        self.pool = nn.MaxPool2d(kernel_size=2, stride=2, padding=0)\n",
    "        self.fc1 = nn.Linear(64 * 32 * 32, 128)\n",
    "        self.fc2 = nn.Linear(128, 4)\n",
    "        self.dropout = nn.Dropout(0.5)\n",
    "        self.relu = nn.ReLU()\n",
    "\n",
    "    def forward(self, x):\n",
    "        x = self.pool(self.relu(self.conv1(x)))\n",
    "        x = self.pool(self.relu(self.conv2(x)))\n",
    "        x = x.view(-1, 64 * 32 * 32)\n",
    "        x = self.dropout(self.relu(self.fc1(x)))\n",
    "        x = torch.sigmoid(self.fc2(x))\n",
    "        return x\n",
    "\n",
    "# Check if GPU is available\n",
    "# device = torch.device(\"cuda\" if torch.cuda.is_available() else \"cpu\")\n",
    "\n",
    "# # Instantiate the model, define the loss function and the optimizer\n",
    "# model = CNNModel().to(device)\n",
    "# criterion = nn.BCELoss()\n",
    "# optimizer = optim.Adam(model.parameters(), lr=0.001)\n",
    "\n",
    "# # Train the model\n",
    "# num_epochs = 35\n",
    "\n",
    "# for epoch in range(num_epochs):\n",
    "#     model.train()\n",
    "#     running_loss = 0.0\n",
    "#     correct = 0\n",
    "#     total = 0\n",
    "#     for images, labels in train_loader:\n",
    "#         images, labels = images.to(device), labels.to(device)\n",
    "\n",
    "#         optimizer.zero_grad()\n",
    "#         outputs = model(images)\n",
    "#         loss = criterion(outputs, labels)\n",
    "#         loss.backward()\n",
    "#         optimizer.step()\n",
    "\n",
    "#         running_loss += loss.item()\n",
    "#         predicted = (outputs > 0.5).float()\n",
    "#         total += labels.size(0) * labels.size(1)\n",
    "#         correct += (predicted == labels).sum().item()\n",
    "\n",
    "#     accuracy = 100 * correct / total\n",
    "#     print(f'Epoch [{epoch+1}/{num_epochs}], Loss: {running_loss/len(train_loader):.4f}, Accuracy: {accuracy:.2f}%')\n"
   ]
  },
  {
   "cell_type": "code",
   "execution_count": 6,
   "metadata": {},
   "outputs": [],
   "source": [
    "device = torch.device(\"cuda\" if torch.cuda.is_available() else \"cpu\")\n",
    "model = CNNModel().to(device)\n",
    "\n",
    "\n"
   ]
  },
  {
   "cell_type": "code",
   "execution_count": 7,
   "metadata": {},
   "outputs": [],
   "source": [
    "  \n",
    "def train (model, trainloader, optimizer):\n",
    "    \n",
    "    train_losses, test_losses = [], []\n",
    "\n",
    "    for e in range(epochs):\n",
    "        tot_train_loss = 0 \n",
    "        for images, labels in trainloader:\n",
    "            log_ps = model(images)\n",
    "            loss = loss_func(log_ps, labels)\n",
    "            \n",
    "            optimizer.zero_grad()\n",
    "            loss.backward()\n",
    "            optimizer.step()\n",
    "            \n",
    "            tot_train_loss += loss.item()\n",
    "           \n",
    "        else:\n",
    "            tot_test_loss = 0\n",
    "            test_correct = 0\n",
    "            # Turn off gradients for validation to save memory and speed up computations\n",
    "            with torch.no_grad():\n",
    "                model.eval()\n",
    "                correct = 0\n",
    "                total = 0\n",
    "                with torch.no_grad():\n",
    "                    for images, labels in trainloader:\n",
    "                        images, labels = images.to(device), labels.to(device)\n",
    "                        outputs = model(images)\n",
    "                        tot_test_loss += loss.item()\n",
    "                        predicted = (outputs > 0.5).float()\n",
    "                        total += labels.size(0) * labels.size(1)\n",
    "                        correct += (predicted == labels).sum().item()\n",
    "            model.train()\n",
    "            \n",
    "            # # Get mean loss to enable comparison between train and test sets\n",
    "            # train_loss = tot_train_loss / len(trainloader.dataset)\n",
    "            # test_loss = tot_test_loss / len(test_loader.dataset)\n",
    "            \n",
    "            # # At completion of epoch\n",
    "            # train_losses.append(train_loss)\n",
    "            # test_losses.append(test_loss)\n",
    "            # accuracy = test_correct / len(test_loader.dataset)\n",
    "            \n",
    "            train_loss = tot_train_loss / len(trainloader.dataset)\n",
    "            test_loss = tot_test_loss / len(test_loader.dataset)\n",
    "            accuracy = 100 * correct / total\n",
    "            \n",
    "            # # if e % 2==0:                                   \n",
    "            print(\"Epoch: {}/{}.. \".format(e+1, epochs),\n",
    "            \"Training Loss {:.3f}.. \".format(train_loss),\n",
    "            \"Test Loss {:.3f}.. \".format(test_loss),\n",
    "            \"Test Accuracy {:.3f}\".format(accuracy))\n",
    "            \n",
    "\n",
    "\n",
    "# # Define loss function and optimizers\n",
    "loss_func = nn.CrossEntropyLoss()\n",
    "optimizer = optim.Adam(model.parameters(), lr=0.001)\n",
    "\n",
    "\n"
   ]
  },
  {
   "cell_type": "code",
   "execution_count": 8,
   "metadata": {},
   "outputs": [],
   "source": [
    "train(model, train_loader, optimizer)"
   ]
  },
  {
   "cell_type": "code",
   "execution_count": null,
   "metadata": {},
   "outputs": [],
   "source": [
    "# Predict on test images\n",
    "test_predictions = []\n",
    "test_image_names = []\n",
    "\n",
    "model.eval()\n",
    "with torch.no_grad():\n",
    "    for images, img_names in test_loader:\n",
    "        images = images.to(device)\n",
    "        outputs = model(images)\n",
    "        predicted = (outputs > 0.5).float().cpu().numpy()\n",
    "        test_predictions.extend(predicted)\n",
    "        test_image_names.extend(img_names)\n",
    "\n",
    "# Save predictions to CSV\n",
    "preds_df = pd.DataFrame(test_predictions, columns=['baseball', 'basketball', 'volleyball', 'soccerball'])\n",
    "preds_df.insert(0, 'img_name', test_image_names)\n",
    "preds_df.to_csv('preds.csv', index=False)"
   ]
  },
  {
   "cell_type": "code",
   "execution_count": null,
   "metadata": {},
   "outputs": [],
   "source": []
  },
  {
   "cell_type": "code",
   "execution_count": null,
   "metadata": {},
   "outputs": [],
   "source": []
  },
  {
   "cell_type": "code",
   "execution_count": null,
   "metadata": {},
   "outputs": [],
   "source": []
  }
 ],
 "metadata": {
  "kernelspec": {
   "display_name": "base",
   "language": "python",
   "name": "python3"
  },
  "language_info": {
   "codemirror_mode": {
    "name": "ipython",
    "version": 3
   },
   "file_extension": ".py",
   "mimetype": "text/x-python",
   "name": "python",
   "nbconvert_exporter": "python",
   "pygments_lexer": "ipython3",
   "version": "3.11.7"
  }
 },
 "nbformat": 4,
 "nbformat_minor": 2
}
